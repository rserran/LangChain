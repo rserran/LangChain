{
 "cells": [
  {
   "cell_type": "markdown",
   "id": "4b62275f",
   "metadata": {},
   "source": [
    "## Wikipedia"
   ]
  },
  {
   "cell_type": "code",
   "execution_count": null,
   "id": "a088c2e5",
   "metadata": {},
   "outputs": [],
   "source": [
    "#pip install wikipedia"
   ]
  },
  {
   "cell_type": "code",
   "execution_count": null,
   "id": "5555cce0",
   "metadata": {},
   "outputs": [],
   "source": [
    "from langchain.document_loaders import WikipediaLoader"
   ]
  },
  {
   "cell_type": "code",
   "execution_count": null,
   "id": "8f38837e",
   "metadata": {},
   "outputs": [],
   "source": [
    "docs = WikipediaLoader(query=\"ChatGPT\", load_max_docs=2).load()\n",
    "len(docs)"
   ]
  },
  {
   "cell_type": "code",
   "execution_count": null,
   "id": "64881d14",
   "metadata": {},
   "outputs": [],
   "source": [
    "docs[0].page_content[:400]  # a content of the Document"
   ]
  },
  {
   "cell_type": "code",
   "execution_count": null,
   "id": "60c0c22c",
   "metadata": {},
   "outputs": [],
   "source": [
    "docs[0].metadata  # meta-information of the Document"
   ]
  },
  {
   "cell_type": "markdown",
   "id": "24286b95",
   "metadata": {},
   "source": [
    "## Youtube URL"
   ]
  },
  {
   "cell_type": "code",
   "execution_count": 9,
   "id": "4e51e8e5",
   "metadata": {},
   "outputs": [],
   "source": [
    "#pip install youtube-transcript-api"
   ]
  },
  {
   "cell_type": "code",
   "execution_count": 27,
   "id": "eb4a26c3",
   "metadata": {},
   "outputs": [],
   "source": [
    "#pip install pytube"
   ]
  },
  {
   "cell_type": "code",
   "execution_count": 5,
   "id": "2131063a",
   "metadata": {},
   "outputs": [],
   "source": [
    "from langchain.document_loaders import YoutubeLoader"
   ]
  },
  {
   "cell_type": "code",
   "execution_count": 25,
   "id": "d563ad8c",
   "metadata": {},
   "outputs": [],
   "source": [
    "loader = YoutubeLoader.from_youtube_url(\"https://www.youtube.com/watch?v=BddP6PYo2gs\", add_video_info=True,\n",
    "    language=[\"hi\"],\n",
    "    translation=\"en\",\n",
    ")"
   ]
  },
  {
   "cell_type": "code",
   "execution_count": 26,
   "id": "9ca885b7",
   "metadata": {},
   "outputs": [
    {
     "data": {
      "text/plain": [
       "[Document(page_content='मुझको इतना बताये कोई कैसे तुझ से दिल ना लगाए कोई रब्बा ने तुझको बनाने में कर दी हैं हुस्न की खाली तिजोरियाँ काजल की स्याही से लिखी हैं तू ने जाने कितनों की लव स्टोरियां केसरिया तेरा इश्क़ है पिया रंग जाऊं जो मैं हाथ लगाऊँ दिन बीते सारा तेरी फ़िक्र में रें साड़ी तेरी खैर मनाऊँ पतझड़ के मौसम में भी रंगी चनारों जैसी झाँके सन्नाटों में तू वीणा के तारों जैसी सदियों से भी लम्बी ये मन की अमावासें हैं और तू फुलझड़ियों वाले त्योहारों जैसी.. चंदा भी दीवाना है तेरा जलती हैं तुझसे सारी चकोरियाँ काजल की स्याही से लिखी हैं तू ने जाने कितनों की लव स्टोरियां केसरिया तेरा इश्क़ है पिया रंग जाऊं जो मैं हाथ लगाऊँ दिन बीते सारा तेरी फ़िक्र में रेन सारी तेरी खैर मनाऊँ केसरिया तेरा इश्क़ है पिया इश्क़ है पिया केसरिया तेरा इश्क़ है पिया इश्क़ है पिया केसरिया', metadata={'source': 'BddP6PYo2gs', 'title': 'Kesariya (From “Brahmastra”)', 'description': 'Unknown', 'view_count': 476057221, 'thumbnail_url': 'https://i.ytimg.com/vi/BddP6PYo2gs/hq720.jpg?sqp=-oaymwEXCNUGEOADIAQqCwjVARCqCBh4INgESFo&rs=AOn4CLB2okquS5jGBrdcLIgx9j9kIT6Kug', 'publish_date': '2022-07-16 00:00:00', 'length': 172, 'author': 'Arijit Singh'})]"
      ]
     },
     "execution_count": 26,
     "metadata": {},
     "output_type": "execute_result"
    }
   ],
   "source": [
    "loader.load()"
   ]
  }
 ],
 "metadata": {
  "kernelspec": {
   "display_name": "Python 3 (ipykernel)",
   "language": "python",
   "name": "python3"
  },
  "language_info": {
   "codemirror_mode": {
    "name": "ipython",
    "version": 3
   },
   "file_extension": ".py",
   "mimetype": "text/x-python",
   "name": "python",
   "nbconvert_exporter": "python",
   "pygments_lexer": "ipython3",
   "version": "3.9.7"
  }
 },
 "nbformat": 4,
 "nbformat_minor": 5
}
