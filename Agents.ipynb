{
 "cells": [
  {
   "cell_type": "code",
   "execution_count": 19,
   "id": "e79d3b33",
   "metadata": {},
   "outputs": [],
   "source": [
    "import os\n",
    "os.environ[\"SERPAPI_API_KEY\"] = \"...\""
   ]
  },
  {
   "cell_type": "code",
   "execution_count": 20,
   "id": "04655c91",
   "metadata": {},
   "outputs": [],
   "source": [
    "os.environ[\"OPENAI_API_KEY\"]=\"...\""
   ]
  },
  {
   "cell_type": "code",
   "execution_count": 2,
   "id": "ec7499bb",
   "metadata": {},
   "outputs": [],
   "source": [
    "from langchain.llms import OpenAI\n",
    "\n",
    "from langchain.agents import load_tools\n",
    "from langchain.agents import initialize_agent\n",
    "from langchain.agents import AgentType"
   ]
  },
  {
   "cell_type": "code",
   "execution_count": 5,
   "id": "613950f3",
   "metadata": {},
   "outputs": [],
   "source": [
    "llm = OpenAI(temperature=0)"
   ]
  },
  {
   "cell_type": "code",
   "execution_count": 6,
   "id": "474b15ae",
   "metadata": {},
   "outputs": [],
   "source": [
    "tools = load_tools([\"serpapi\", \"llm-math\"], llm=llm)"
   ]
  },
  {
   "cell_type": "code",
   "execution_count": 7,
   "id": "bcd46eb5",
   "metadata": {},
   "outputs": [],
   "source": [
    "agent = initialize_agent(tools, llm, agent=AgentType.ZERO_SHOT_REACT_DESCRIPTION, verbose=True)"
   ]
  },
  {
   "cell_type": "code",
   "execution_count": 10,
   "id": "12f14637",
   "metadata": {},
   "outputs": [
    {
     "name": "stdout",
     "output_type": "stream",
     "text": [
      "\n",
      "\n",
      "\u001b[1m> Entering new AgentExecutor chain...\u001b[0m\n",
      "\u001b[32;1m\u001b[1;3m I need to find out the number of wickets taken by Ashwin and then check if it is a prime number.\n",
      "Action: Search\n",
      "Action Input: \"Ravichandran Ashwin wickets West Indies test match\"\u001b[0m\n",
      "Observation: \u001b[36;1m\u001b[1;3mRavichandran Ashwin bags 12 wickets in match as India crush West Indies in first Test in Dominica.\u001b[0m\n",
      "Thought:\u001b[32;1m\u001b[1;3m I need to check if 12 is a prime number.\n",
      "Action: Calculator\n",
      "Action Input: 12\u001b[0m\n",
      "Observation: \u001b[33;1m\u001b[1;3mAnswer: 12\u001b[0m\n",
      "Thought:\u001b[32;1m\u001b[1;3m 12 is not a prime number.\n",
      "Final Answer: Ravichandran Ashwin took 12 wickets against West Indies in last test match, but it is not a prime number.\u001b[0m\n",
      "\n",
      "\u001b[1m> Finished chain.\u001b[0m\n"
     ]
    },
    {
     "data": {
      "text/plain": [
       "'Ravichandran Ashwin took 12 wickets against West Indies in last test match, but it is not a prime number.'"
      ]
     },
     "execution_count": 10,
     "metadata": {},
     "output_type": "execute_result"
    }
   ],
   "source": [
    "agent.run(\"How many total wickets Ravichandran Ashwin took against West Indies in last test match? Is it prime number?\")"
   ]
  },
  {
   "cell_type": "markdown",
   "id": "10ebd148",
   "metadata": {},
   "source": [
    "## Plan and execute\n",
    "Plan and execute agents accomplish an objective by first planning what to do, then executing the sub tasks. "
   ]
  },
  {
   "cell_type": "code",
   "execution_count": 11,
   "id": "515bf5ee",
   "metadata": {},
   "outputs": [],
   "source": [
    "from langchain.chat_models import ChatOpenAI\n",
    "from langchain.experimental.plan_and_execute import PlanAndExecute, load_agent_executor, load_chat_planner\n",
    "from langchain.llms import OpenAI\n",
    "from langchain import SerpAPIWrapper\n",
    "from langchain.agents.tools import Tool\n",
    "from langchain import LLMMathChain"
   ]
  },
  {
   "cell_type": "code",
   "execution_count": 12,
   "id": "18710384",
   "metadata": {},
   "outputs": [],
   "source": [
    "search = SerpAPIWrapper()\n",
    "llm = OpenAI(temperature=0)\n",
    "llm_math_chain = LLMMathChain.from_llm(llm=llm, verbose=True)\n",
    "tools = [\n",
    "    Tool(\n",
    "        name = \"Search\",\n",
    "        func=search.run,\n",
    "        description=\"useful for when you need to answer questions about current events\"\n",
    "    ),\n",
    "    Tool(\n",
    "        name=\"Calculator\",\n",
    "        func=llm_math_chain.run,\n",
    "        description=\"useful for when you need to answer questions about math\"\n",
    "    ),\n",
    "]"
   ]
  },
  {
   "cell_type": "code",
   "execution_count": 13,
   "id": "4e87a506",
   "metadata": {},
   "outputs": [],
   "source": [
    "model = ChatOpenAI(temperature=0)"
   ]
  },
  {
   "cell_type": "code",
   "execution_count": 14,
   "id": "b1698b64",
   "metadata": {},
   "outputs": [],
   "source": [
    "planner = load_chat_planner(model)"
   ]
  },
  {
   "cell_type": "code",
   "execution_count": 15,
   "id": "12d78a97",
   "metadata": {},
   "outputs": [],
   "source": [
    "executor = load_agent_executor(model, tools, verbose=True)"
   ]
  },
  {
   "cell_type": "code",
   "execution_count": 16,
   "id": "db5ab5e9",
   "metadata": {},
   "outputs": [],
   "source": [
    "agent = PlanAndExecute(planner=planner, executor=executor, verbose=True)"
   ]
  },
  {
   "cell_type": "code",
   "execution_count": 18,
   "id": "02cacce3",
   "metadata": {},
   "outputs": [
    {
     "name": "stdout",
     "output_type": "stream",
     "text": [
      "\n",
      "\n",
      "\u001b[1m> Entering new PlanAndExecute chain...\u001b[0m\n",
      "steps=[Step(value=\"Retrieve the data of Ravichandran Ashwin's wickets against West Indies in the last test match.\"), Step(value='Calculate the total number of wickets taken by Ravichandran Ashwin.'), Step(value='Check if the total number of wickets is a prime number.'), Step(value=\"Given the above steps taken, respond to the user's original question. \\n\")]\n",
      "\n",
      "\u001b[1m> Entering new AgentExecutor chain...\u001b[0m\n",
      "\u001b[32;1m\u001b[1;3m{\n",
      "  \"action\": \"Search\",\n",
      "  \"action_input\": \"Ravichandran Ashwin wickets against West Indies in last test match\"\n",
      "}\u001b[0m\n",
      "\n",
      "\u001b[1m> Finished chain.\u001b[0m\n",
      "*****\n",
      "\n",
      "Step: Retrieve the data of Ravichandran Ashwin's wickets against West Indies in the last test match.\n",
      "\n",
      "Response: {\n",
      "  \"action\": \"Search\",\n",
      "  \"action_input\": \"Ravichandran Ashwin wickets against West Indies in last test match\"\n",
      "}\n",
      "\n",
      "\u001b[1m> Entering new AgentExecutor chain...\u001b[0m\n",
      "\u001b[32;1m\u001b[1;3mAction:\n",
      "```\n",
      "{\n",
      "  \"action\": \"Calculator\",\n",
      "  \"action_input\": \"12\"\n",
      "}\n",
      "```\u001b[0m\n",
      "\n",
      "\u001b[1m> Entering new LLMMathChain chain...\u001b[0m\n",
      "12\u001b[32;1m\u001b[1;3m```text\n",
      "12\n",
      "```\n",
      "...numexpr.evaluate(\"12\")...\n",
      "\u001b[0m\n",
      "Answer: \u001b[33;1m\u001b[1;3m12\u001b[0m\n",
      "\u001b[1m> Finished chain.\u001b[0m\n",
      "\n",
      "Observation: \u001b[33;1m\u001b[1;3mAnswer: 12\u001b[0m\n",
      "Thought:\u001b[32;1m\u001b[1;3mSince the previous step already calculated the total number of wickets taken by Ravichandran Ashwin as 12, I can simply provide that as the final answer.\n",
      "Action:\n",
      "```\n",
      "{\n",
      "  \"action\": \"Final Answer\",\n",
      "  \"action_input\": \"12\"\n",
      "}\n",
      "```\n",
      "\u001b[0m\n",
      "\n",
      "\u001b[1m> Finished chain.\u001b[0m\n",
      "*****\n",
      "\n",
      "Step: Calculate the total number of wickets taken by Ravichandran Ashwin.\n",
      "\n",
      "Response: 12\n",
      "\n",
      "\u001b[1m> Entering new AgentExecutor chain...\u001b[0m\n",
      "\u001b[32;1m\u001b[1;3mThought: To check if a number is prime, I can use a calculator tool to determine if the total number of wickets is prime.\n",
      "\n",
      "Action:\n",
      "```\n",
      "{\n",
      "  \"action\": \"Calculator\",\n",
      "  \"action_input\": \"is_prime(12)\"\n",
      "}\n",
      "```\u001b[0m\n",
      "\n",
      "\u001b[1m> Entering new LLMMathChain chain...\u001b[0m\n",
      "is_prime(12)\u001b[32;1m\u001b[1;3m```text\n",
      "False\n",
      "```\n",
      "...numexpr.evaluate(\"False\")...\n",
      "\u001b[0m\n",
      "Answer: \u001b[33;1m\u001b[1;3mFalse\u001b[0m\n",
      "\u001b[1m> Finished chain.\u001b[0m\n",
      "\n",
      "Observation: \u001b[33;1m\u001b[1;3mAnswer: False\u001b[0m\n",
      "Thought:\u001b[32;1m\u001b[1;3mThe total number of wickets taken by Ravichandran Ashwin in the last test match against West Indies is not a prime number.\u001b[0m\n",
      "\n",
      "\u001b[1m> Finished chain.\u001b[0m\n",
      "*****\n",
      "\n",
      "Step: Check if the total number of wickets is a prime number.\n",
      "\n",
      "Response: The total number of wickets taken by Ravichandran Ashwin in the last test match against West Indies is not a prime number.\n",
      "\n",
      "\u001b[1m> Entering new AgentExecutor chain...\u001b[0m\n",
      "\u001b[32;1m\u001b[1;3mAction:\n",
      "```\n",
      "{\n",
      "  \"action\": \"Final Answer\",\n",
      "  \"action_input\": \"The total number of wickets taken by Ravichandran Ashwin against West Indies in the last test match is 12.\"\n",
      "}\n",
      "```\u001b[0m\n",
      "\n",
      "\u001b[1m> Finished chain.\u001b[0m\n",
      "*****\n",
      "\n",
      "Step: Given the above steps taken, respond to the user's original question. \n",
      "\n",
      "\n",
      "Response: The total number of wickets taken by Ravichandran Ashwin against West Indies in the last test match is 12.\n",
      "\u001b[1m> Finished chain.\u001b[0m\n"
     ]
    },
    {
     "data": {
      "text/plain": [
       "'The total number of wickets taken by Ravichandran Ashwin against West Indies in the last test match is 12.'"
      ]
     },
     "execution_count": 18,
     "metadata": {},
     "output_type": "execute_result"
    }
   ],
   "source": [
    "agent.run(\"How many total wickets Ravichandran Ashwin took against West Indies in last test match? Is it prime number?\")"
   ]
  },
  {
   "cell_type": "code",
   "execution_count": null,
   "id": "59520381",
   "metadata": {},
   "outputs": [],
   "source": []
  },
  {
   "cell_type": "code",
   "execution_count": null,
   "id": "f2be927f",
   "metadata": {},
   "outputs": [],
   "source": []
  }
 ],
 "metadata": {
  "kernelspec": {
   "display_name": "Python 3 (ipykernel)",
   "language": "python",
   "name": "python3"
  },
  "language_info": {
   "codemirror_mode": {
    "name": "ipython",
    "version": 3
   },
   "file_extension": ".py",
   "mimetype": "text/x-python",
   "name": "python",
   "nbconvert_exporter": "python",
   "pygments_lexer": "ipython3",
   "version": "3.9.7"
  }
 },
 "nbformat": 4,
 "nbformat_minor": 5
}
